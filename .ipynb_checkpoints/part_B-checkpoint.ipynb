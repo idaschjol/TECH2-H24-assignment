{
 "cells": [
  {
   "cell_type": "markdown",
   "metadata": {},
   "source": [
    "# TECH 2 mandatory assignment - Part B\n",
    "\n",
    "Write your solution for Part B in this notebook."
   ]
  },
  {
   "cell_type": "code",
   "execution_count": 220,
   "metadata": {},
   "outputs": [],
   "source": [
    "import pandas as pd\n",
    "\n",
    "# Load the data from the CSV file\n",
    "data = pd.read_csv('data.csv')\n",
    "\n",
    "\n",
    "# Extract each column into a list\n",
    "col100 = data.iloc[:, 0].tolist()    # Column 1: 100 numbers\n",
    "col1000 = data.iloc[:, 1].tolist()   # Column 2: 1000 numbers\n",
    "col10000 = data.iloc[:, 2].tolist()  # Column 3: 10,000 numbers\n",
    "\n",
    "#Removing the empty cells from the lists\n",
    "col1 = col100[:99]\n",
    "col2 = col1000[:999]\n",
    "col3 = col10000\n"
   ]
  },
  {
   "cell_type": "code",
   "execution_count": 222,
   "metadata": {},
   "outputs": [],
   "source": [
    "#Calculating the standard deviation\n",
    "\n",
    "from math import sqrt\n",
    "import numpy as np\n",
    "\n",
    "\n",
    "def std_loops(x):\n",
    "    L = len(x)  #Finding the length of the list\n",
    "    mean = 0\n",
    "    for num in x:  #First loop to calculate the mean\n",
    "        mean += num\n",
    "    mean /= L\n",
    "    \n",
    "    \n",
    "    variance = 0\n",
    "    for num in x:   #Second loop to calculate the variance\n",
    "        variance += (num-mean)**2\n",
    "    variance /= L\n",
    "    \n",
    "    \n",
    "    std = sqrt(variance)  #Calcualting the standard deviation by taking the square root of the variance\n",
    "    return std\n",
    "    \n",
    "    \n",
    "    \n",
    "#Doing the same by just using sum() and len()\n",
    "def std_builtin(x):\n",
    "    L = len(x)\n",
    "    mean = sum(x)/L\n",
    "    variance = sum((x-mean)**2 for x in x)/L \n",
    "    std = sqrt(variance)\n",
    "    return std\n",
    "\n",
    "\n",
    "\n",
    "#Using numpy to calculate:   \n",
    "def std_numpy(x):\n",
    "    return np.std(x)\n"
   ]
  },
  {
   "cell_type": "code",
   "execution_count": 224,
   "metadata": {},
   "outputs": [
    {
     "name": "stdout",
     "output_type": "stream",
     "text": [
      "Time for standard deviation using loops for Column 1:\n",
      "12 μs ± 147 ns per loop (mean ± std. dev. of 7 runs, 100,000 loops each)\n",
      "\n",
      "Time for standard deviation using built-in functions for Column 1:\n",
      "12.7 μs ± 80.4 ns per loop (mean ± std. dev. of 7 runs, 100,000 loops each)\n",
      "\n",
      "Time for standard deviation using NumPy for Column 1:\n",
      "32.7 μs ± 2.02 μs per loop (mean ± std. dev. of 7 runs, 10,000 loops each)\n"
     ]
    }
   ],
   "source": [
    "print(\"Time for standard deviation using loops for Column 1:\")\n",
    "%timeit std_loops(col1)\n",
    "print()\n",
    "print(\"Time for standard deviation using built-in functions for Column 1:\")\n",
    "%timeit std_builtin(col1)\n",
    "print()\n",
    "print(\"Time for standard deviation using NumPy for Column 1:\")\n",
    "%timeit std_numpy(col1)"
   ]
  },
  {
   "cell_type": "code",
   "execution_count": 216,
   "metadata": {},
   "outputs": [
    {
     "name": "stdout",
     "output_type": "stream",
     "text": [
      "Time for standard deviation using loops for Column 2:\n",
      "163 μs ± 48.7 μs per loop (mean ± std. dev. of 7 runs, 10,000 loops each)\n",
      "\n",
      "Time for standard deviation using built-in functions for Column 2:\n",
      "134 μs ± 8.03 μs per loop (mean ± std. dev. of 7 runs, 10,000 loops each)\n",
      "\n",
      "Time for standard deviation using NumPy for Column 2:\n",
      "88.5 μs ± 3.9 μs per loop (mean ± std. dev. of 7 runs, 10,000 loops each)\n"
     ]
    }
   ],
   "source": [
    "print(\"Time for standard deviation using loops for Column 2:\")\n",
    "%timeit std_loops(col2)\n",
    "print()\n",
    "print(\"Time for standard deviation using built-in functions for Column 2:\")\n",
    "%timeit std_builtin(col2)\n",
    "print()\n",
    "print(\"Time for standard deviation using NumPy for Column 2:\")\n",
    "%timeit std_numpy(col2)\n"
   ]
  },
  {
   "cell_type": "code",
   "execution_count": 218,
   "metadata": {},
   "outputs": [
    {
     "name": "stdout",
     "output_type": "stream",
     "text": [
      "Time for standard deviation using loops for Column 3:\n",
      "1.2 ms ± 16.7 μs per loop (mean ± std. dev. of 7 runs, 1,000 loops each)\n",
      "\n",
      "Time for standard deviation using built-in functions for Column 3:\n",
      "1.21 ms ± 13.4 μs per loop (mean ± std. dev. of 7 runs, 1,000 loops each)\n",
      "\n",
      "Time for standard deviation using NumPy for Column 3:\n",
      "565 μs ± 11.1 μs per loop (mean ± std. dev. of 7 runs, 1,000 loops each)\n"
     ]
    }
   ],
   "source": [
    "print(\"Time for standard deviation using loops for Column 3:\")\n",
    "%timeit std_loops(col3)\n",
    "print()\n",
    "print(\"Time for standard deviation using built-in functions for Column 3:\")\n",
    "%timeit std_builtin(col3)\n",
    "print()\n",
    "print(\"Time for standard deviation using NumPy for Column 3:\")\n",
    "%timeit std_numpy(col3)"
   ]
  },
  {
   "cell_type": "code",
   "execution_count": null,
   "metadata": {},
   "outputs": [],
   "source": [
    "#For the first column it is fastest to use loops, and slowest to use numpy. But when the list is getting longer it is faster to use numpy. "
   ]
  }
 ],
 "metadata": {
  "kernelspec": {
   "display_name": "Python 3 (ipykernel)",
   "language": "python",
   "name": "python3"
  },
  "language_info": {
   "codemirror_mode": {
    "name": "ipython",
    "version": 3
   },
   "file_extension": ".py",
   "mimetype": "text/x-python",
   "name": "python",
   "nbconvert_exporter": "python",
   "pygments_lexer": "ipython3",
   "version": "3.12.4"
  }
 },
 "nbformat": 4,
 "nbformat_minor": 4
}
